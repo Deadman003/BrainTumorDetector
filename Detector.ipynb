{
 "cells": [
  {
   "cell_type": "code",
   "execution_count": 4,
   "metadata": {},
   "outputs": [],
   "source": [
    "import cv2\n",
    "import os\n",
    "import numpy as np\n",
    "from sklearn.model_selection import train_test_split\n",
    "from sklearn.metrics import confusion_matrix, classification_report\n",
    "import keras\n",
    "# from keras.utils import normalize\n",
    "from keras.layers import Conv2D, MaxPooling2D, Flatten, Dense"
   ]
  },
  {
   "cell_type": "markdown",
   "metadata": {},
   "source": [
    "Making the Dataset\n"
   ]
  },
  {
   "cell_type": "code",
   "execution_count": 5,
   "metadata": {},
   "outputs": [],
   "source": [
    "image_directory = 'Data/'  #Filepath\n",
    "\n",
    "no_tumor_images = os.listdir(image_directory+'no/')\n",
    "yes_tumor_images = os.listdir(image_directory+'yes/')"
   ]
  },
  {
   "cell_type": "code",
   "execution_count": 6,
   "metadata": {},
   "outputs": [],
   "source": [
    "X = []\n",
    "y = []\n",
    "\n",
    "for image_name in no_tumor_images:\n",
    "    if(image_name.split('.')[1] == 'jpg') :\n",
    "        image = cv2.imread(image_directory+'no/'+image_name)\n",
    "        image = cv2.cvtColor(image, cv2.COLOR_BGR2GRAY)\n",
    "        image = cv2.resize(image, (224, 224))\n",
    "        X.append(np.array(image))\n",
    "        y.append(0)\n",
    "\n",
    "for image_name in yes_tumor_images:\n",
    "    if(image_name.split('.')[1] == 'jpg') :\n",
    "        image = cv2.imread (image_directory+'yes/'+image_name)\n",
    "        image = cv2.cvtColor(image, cv2.COLOR_BGR2GRAY)\n",
    "        image = cv2.resize(image, (224, 224))\n",
    "        X.append(np.array(image))\n",
    "        y.append(1)\n",
    "\n",
    "X = np.array(X)\n",
    "y = np.array(y)"
   ]
  },
  {
   "cell_type": "markdown",
   "metadata": {},
   "source": [
    "Train_Test_Validation_Split\n"
   ]
  },
  {
   "cell_type": "code",
   "execution_count": 7,
   "metadata": {},
   "outputs": [],
   "source": [
    "x_train, x_test, y_train, y_test = train_test_split(X, y, test_size=0.2, random_state=101)\n",
    "x_val, x_test, y_val, y_test = train_test_split(x_test, y_test, test_size=0.5, random_state=101)\n",
    "\n",
    "# x_train = normalize(x_train, axis=1)\n",
    "# x_test = normalize(x_test, axis=1)"
   ]
  },
  {
   "cell_type": "markdown",
   "metadata": {},
   "source": [
    "VGG16\n"
   ]
  },
  {
   "cell_type": "code",
   "execution_count": 8,
   "metadata": {},
   "outputs": [],
   "source": [
    "model = keras.Sequential()\n",
    "\n",
    "# Block 1\n",
    "model.add(Conv2D(64, kernel_size=(3, 3), padding=\"same\", activation=\"relu\", input_shape=(224, 224, 1)))\n",
    "model.add(Conv2D(64, kernel_size=(3, 3), padding=\"same\", activation=\"relu\"))\n",
    "model.add(MaxPooling2D((2, 2), strides=(2, 2))) \n",
    "\n",
    "# Block 2\n",
    "model.add(Conv2D(128, kernel_size=(3, 3), padding=\"same\", activation=\"relu\"))\n",
    "model.add(Conv2D(128, kernel_size=(3, 3), padding=\"same\", activation=\"relu\"))\n",
    "model.add(MaxPooling2D((2, 2), strides=(2, 2)))\n",
    "\n",
    "# Block 3\n",
    "model.add(Conv2D(256, kernel_size=(3, 3), padding=\"same\", activation=\"relu\"))\n",
    "model.add(Conv2D(256, kernel_size=(3, 3), padding=\"same\", activation=\"relu\"))\n",
    "model.add(Conv2D(256, kernel_size=(3, 3), padding=\"same\", activation=\"relu\"))\n",
    "model.add(MaxPooling2D((2, 2), strides= (2, 2)))\n",
    "\n",
    "# Block 4\n",
    "model.add(Conv2D(512, kernel_size=(3, 3), padding=\"same\", activation=\"relu\"))\n",
    "model.add(Conv2D(512, kernel_size=(3, 3), padding=\"same\", activation=\"relu\"))\n",
    "model.add(Conv2D(512, kernel_size=(3, 3), padding=\"same\", activation=\"relu\"))\n",
    "model.add(MaxPooling2D((2, 2), strides=(2, 2)))\n",
    "\n",
    "# Block 5\n",
    "model.add(Conv2D(512, kernel_size=(3, 3), padding=\"same\", activation=\"relu\"))\n",
    "model.add(Conv2D(512, kernel_size=(3, 3), padding=\"same\", activation=\"relu\"))\n",
    "model.add(Conv2D(512, kernel_size= (3, 3), padding=\"same\", activation=\"relu\"))\n",
    "model.add(MaxPooling2D((2, 2), strides= (2, 2)))\n",
    "\n",
    "# Top\n",
    "model.add(Flatten())\n",
    "model.add(Dense(4096, activation=\"relu\"))\n",
    "model.add(Dense(4096, activation=\"relu\"))\n",
    "model.add(Dense(1, activation=\"sigmoid\"))"
   ]
  },
  {
   "cell_type": "code",
   "execution_count": 9,
   "metadata": {},
   "outputs": [
    {
     "data": {
      "text/plain": [
       "\"\\nmodel.compile(loss='binary_crossentropy', optimizer= 'adam', metrics=['accuracy'])\\n\\nmodel.fit(x_train, y_train, batch_size=16, verbose=1, epochs=30, validation_data=(x_val, y_val), shuffle=False)\\n\\nmodel.save('BrainTumor30Epochs.h5')\\n\""
      ]
     },
     "execution_count": 9,
     "metadata": {},
     "output_type": "execute_result"
    }
   ],
   "source": [
    "'''\n",
    "model.compile(loss='binary_crossentropy', optimizer= 'adam', metrics=['accuracy'])\n",
    "\n",
    "model.fit(x_train, y_train, batch_size=16, verbose=1, epochs=30, validation_data=(x_val, y_val), shuffle=False)\n",
    "\n",
    "model.save('BrainTumor30Epochs.h5')\n",
    "'''"
   ]
  },
  {
   "cell_type": "markdown",
   "metadata": {},
   "source": [
    "Epoch 21/30\n",
    "150/150 [==============================] - 35s 231ms/step - loss: 0.1405 - accuracy: 0.9475 - val_loss: 0.1717 - val_accuracy: 0.9100<br>\n",
    "Epoch 22/30\n",
    "150/150 [==============================] - 35s 231ms/step - loss: 0.1009 - accuracy: 0.9663 - val_loss: 0.3608 - val_accuracy: 0.9200<br>\n",
    "Epoch 23/30\n",
    "150/150 [==============================] - 35s 231ms/step - loss: 0.1359 - accuracy: 0.9550 - val_loss: 0.2385 - val_accuracy: 0.9200<br>\n",
    "Epoch 24/30\n",
    "150/150 [==============================] - 35s 231ms/step - loss: 0.1127 - accuracy: 0.9579 - val_loss: 0.1417 - val_accuracy: 0.9600<br>\n",
    "Epoch 25/30\n",
    "150/150 [==============================] - 35s 231ms/step - loss: 0.1179 - accuracy: 0.9604 - val_loss: 0.2042 - val_accuracy: 0.8967<br>\n",
    "Epoch 26/30\n",
    "150/150 [==============================] - 35s 231ms/step - loss: 0.0967 - accuracy: 0.9696 - val_loss: 0.1623 - val_accuracy: 0.9633<br>\n",
    "Epoch 27/30\n",
    "150/150 [==============================] - 35s 231ms/step - loss: 0.1007 - accuracy: 0.9646 - val_loss: 0.2915 - val_accuracy: 0.9100<br>\n",
    "Epoch 28/30\n",
    "150/150 [==============================] - 35s 231ms/step - loss: 0.1559 - accuracy: 0.9475 - val_loss: 0.3385 - val_accuracy: 0.8900<br>\n",
    "Epoch 29/30\n",
    "150/150 [==============================] - 35s 231ms/step - loss: 0.1307 - accuracy: 0.9571 - val_loss: 0.3011 - val_accuracy: 0.9100<br>\n",
    "Epoch 30/30\n",
    "150/150 [==============================] - 35s 231ms/step - loss: 0.2906 - accuracy: 0.9321 - val_loss: 0.2231 - val_accuracy: 0.9433"
   ]
  },
  {
   "cell_type": "markdown",
   "metadata": {},
   "source": []
  },
  {
   "cell_type": "code",
   "execution_count": 10,
   "metadata": {},
   "outputs": [],
   "source": [
    "from keras.models import load_model\n",
    "model = load_model('C:/Users/Minhaz/Downloads/BrainTumor30Epochs (1).h5')"
   ]
  },
  {
   "cell_type": "code",
   "execution_count": 14,
   "metadata": {},
   "outputs": [
    {
     "name": "stdout",
     "output_type": "stream",
     "text": [
      "10/10 [==============================] - 20s 2s/step\n"
     ]
    },
    {
     "data": {
      "text/plain": [
       "array([[156,   4],\n",
       "       [  2, 138]], dtype=int64)"
      ]
     },
     "execution_count": 14,
     "metadata": {},
     "output_type": "execute_result"
    }
   ],
   "source": [
    "preds = model.predict(x_test)\n",
    "pred_labels = np.round(preds)\n",
    "confusion_matrix(y_test,pred_labels)"
   ]
  },
  {
   "cell_type": "code",
   "execution_count": 15,
   "metadata": {},
   "outputs": [
    {
     "name": "stdout",
     "output_type": "stream",
     "text": [
      "              precision    recall  f1-score   support\n",
      "\n",
      "           0       0.99      0.97      0.98       160\n",
      "           1       0.97      0.99      0.98       140\n",
      "\n",
      "    accuracy                           0.98       300\n",
      "   macro avg       0.98      0.98      0.98       300\n",
      "weighted avg       0.98      0.98      0.98       300\n",
      "\n"
     ]
    }
   ],
   "source": [
    "print(classification_report(y_test, pred_labels))"
   ]
  }
 ],
 "metadata": {
  "kernelspec": {
   "display_name": "Python 3.11 (tensorflow)",
   "language": "python",
   "name": "tensorflow"
  },
  "language_info": {
   "codemirror_mode": {
    "name": "ipython",
    "version": 3
   },
   "file_extension": ".py",
   "mimetype": "text/x-python",
   "name": "python",
   "nbconvert_exporter": "python",
   "pygments_lexer": "ipython3",
   "version": "3.11.4"
  },
  "orig_nbformat": 4
 },
 "nbformat": 4,
 "nbformat_minor": 2
}
